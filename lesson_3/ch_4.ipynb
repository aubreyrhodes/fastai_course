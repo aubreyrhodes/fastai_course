{
 "cells": [
  {
   "cell_type": "code",
   "execution_count": 240,
   "metadata": {},
   "outputs": [],
   "source": [
    "import fastbook\n",
    "fastbook.setup_book()\n",
    "\n",
    "from fastai.vision.all import *\n",
    "from fastbook import *\n",
    "\n",
    "matplotlib.rc('image', cmap='Greys')"
   ]
  },
  {
   "cell_type": "code",
   "execution_count": 241,
   "metadata": {},
   "outputs": [
    {
     "data": {
      "text/plain": [
       "(#3) [Path('valid'),Path('labels.csv'),Path('train')]"
      ]
     },
     "execution_count": 241,
     "metadata": {},
     "output_type": "execute_result"
    }
   ],
   "source": [
    "path = untar_data(URLs.MNIST_SAMPLE)\n",
    "Path.BASE_PATH = path\n",
    "\n",
    "path.ls()"
   ]
  },
  {
   "cell_type": "code",
   "execution_count": 242,
   "metadata": {},
   "outputs": [
    {
     "data": {
      "text/plain": [
       "(#2) [Path('train/7'),Path('train/3')]"
      ]
     },
     "execution_count": 242,
     "metadata": {},
     "output_type": "execute_result"
    }
   ],
   "source": [
    "(path/'train').ls()"
   ]
  },
  {
   "cell_type": "code",
   "execution_count": 243,
   "metadata": {},
   "outputs": [
    {
     "data": {
      "text/plain": [
       "(#6131) [Path('train/3/10.png'),Path('train/3/10000.png'),Path('train/3/10011.png'),Path('train/3/10031.png'),Path('train/3/10034.png'),Path('train/3/10042.png'),Path('train/3/10052.png'),Path('train/3/1007.png'),Path('train/3/10074.png'),Path('train/3/10091.png')...]"
      ]
     },
     "execution_count": 243,
     "metadata": {},
     "output_type": "execute_result"
    }
   ],
   "source": [
    "threes = (path/'train'/'3').ls().sorted()\n",
    "sevens = (path/'train'/'7').ls().sorted()\n",
    "threes"
   ]
  },
  {
   "cell_type": "code",
   "execution_count": 244,
   "metadata": {},
   "outputs": [
    {
     "data": {
      "image/png": "[encoded data removed]",
      "text/plain": [
       "<PIL.PngImagePlugin.PngImageFile image mode=L size=28x28>"
      ]
     },
     "execution_count": 244,
     "metadata": {},
     "output_type": "execute_result"
    }
   ],
   "source": [
    "im3_path = threes[1]\n",
    "im3 = Image.open(im3_path)\n",
    "im3"
   ]
  },
  {
   "cell_type": "code",
   "execution_count": 245,
   "metadata": {},
   "outputs": [
    {
     "data": {
      "text/plain": [
       "array([[  0,   0,   0,   0,   0,   0],\n",
       "       [  0,   0,   0,   0,   0,  29],\n",
       "       [  0,   0,   0,  48, 166, 224],\n",
       "       [  0,  93, 244, 249, 253, 187],\n",
       "       [  0, 107, 253, 253, 230,  48],\n",
       "       [  0,   3,  20,  20,  15,   0]], dtype=uint8)"
      ]
     },
     "execution_count": 245,
     "metadata": {},
     "output_type": "execute_result"
    }
   ],
   "source": [
    "array(im3)[4:10,4:10]"
   ]
  },
  {
   "cell_type": "code",
   "execution_count": 246,
   "metadata": {},
   "outputs": [
    {
     "data": {
      "text/html": [
       "<style type=\"text/css\">\n",
       "#T_409cc_row0_col0, #T_409cc_row0_col1, #T_409cc_row0_col2, #T_409cc_row0_col3, #T_409cc_row0_col4, #T_409cc_row0_col5, #T_409cc_row0_col6, #T_409cc_row0_col7, #T_409cc_row0_col8, #T_409cc_row0_col9, #T_409cc_row0_col10, #T_409cc_row0_col11, #T_409cc_row0_col12, #T_409cc_row0_col13, #T_409cc_row0_col14, #T_409cc_row0_col15, #T_409cc_row0_col16, #T_409cc_row0_col17, #T_409cc_row1_col0, #T_409cc_row1_col1, #T_409cc_row1_col2, #T_409cc_row1_col3, #T_409cc_row1_col4, #T_409cc_row1_col15, #T_409cc_row1_col16, #T_409cc_row1_col17, #T_409cc_row2_col0, #T_409cc_row2_col1, #T_409cc_row2_col2, #T_409cc_row2_col15, #T_409cc_row2_col16, #T_409cc_row2_col17, #T_409cc_row3_col0, #T_409cc_row3_col15, #T_409cc_row3_col16, #T_409cc_row3_col17, #T_409cc_row4_col0, #T_409cc_row4_col6, #T_409cc_row4_col7, #T_409cc_row4_col8, #T_409cc_row4_col9, #T_409cc_row4_col10, #T_409cc_row4_col15, #T_409cc_row4_col16, #T_409cc_row4_col17, #T_409cc_row5_col0, #T_409cc_row5_col5, #T_409cc_row5_col6, #T_409cc_row5_col7, #T_409cc_row5_col8, #T_409cc_row5_col9, #T_409cc_row5_col15, #T_409cc_row5_col16, #T_409cc_row5_col17, #T_409cc_row6_col0, #T_409cc_row6_col1, #T_409cc_row6_col2, #T_409cc_row6_col3, #T_409cc_row6_col4, #T_409cc_row6_col5, #T_409cc_row6_col6, #T_409cc_row6_col7, #T_409cc_row6_col8, #T_409cc_row6_col9, #T_409cc_row6_col14, #T_409cc_row6_col15, #T_409cc_row6_col16, #T_409cc_row6_col17, #T_409cc_row7_col0, #T_409cc_row7_col1, #T_409cc_row7_col2, #T_409cc_row7_col3, #T_409cc_row7_col4, #T_409cc_row7_col5, #T_409cc_row7_col6, #T_409cc_row7_col13, #T_409cc_row7_col14, #T_409cc_row7_col15, #T_409cc_row7_col16, #T_409cc_row7_col17, #T_409cc_row8_col0, #T_409cc_row8_col1, #T_409cc_row8_col2, #T_409cc_row8_col3, #T_409cc_row8_col4, #T_409cc_row8_col13, #T_409cc_row8_col14, #T_409cc_row8_col15, #T_409cc_row8_col16, #T_409cc_row8_col17, #T_409cc_row9_col0, #T_409cc_row9_col1, #T_409cc_row9_col2, #T_409cc_row9_col3, #T_409cc_row9_col4, #T_409cc_row9_col16, #T_409cc_row9_col17, #T_409cc_row10_col0, #T_409cc_row10_col1, #T_409cc_row10_col2, #T_409cc_row10_col3, #T_409cc_row10_col4, #T_409cc_row10_col5, #T_409cc_row10_col6, #T_409cc_row10_col17 {\n",
       "  font-size: 6pt;\n",
       "  background-color: #ffffff;\n",
       "  color: #000000;\n",
       "}\n",
       "#T_409cc_row1_col5 {\n",
       "  font-size: 6pt;\n",
       "  background-color: #efefef;\n",
       "  color: #000000;\n",
       "}\n",
       "#T_409cc_row1_col6, #T_409cc_row1_col13 {\n",
       "  font-size: 6pt;\n",
       "  background-color: #7c7c7c;\n",
       "  color: #f1f1f1;\n",
       "}\n",
       "#T_409cc_row1_col7 {\n",
       "  font-size: 6pt;\n",
       "  background-color: #4a4a4a;\n",
       "  color: #f1f1f1;\n",
       "}\n",
       "#T_409cc_row1_col8, #T_409cc_row1_col9, #T_409cc_row1_col10, #T_409cc_row2_col5, #T_409cc_row2_col6, #T_409cc_row2_col7, #T_409cc_row2_col11, #T_409cc_row2_col12, #T_409cc_row2_col13, #T_409cc_row3_col4, #T_409cc_row3_col12, #T_409cc_row3_col13, #T_409cc_row4_col1, #T_409cc_row4_col2, #T_409cc_row4_col3, #T_409cc_row4_col12, #T_409cc_row4_col13, #T_409cc_row5_col12, #T_409cc_row6_col11, #T_409cc_row9_col11, #T_409cc_row10_col11, #T_409cc_row10_col12, #T_409cc_row10_col13, #T_409cc_row10_col14, #T_409cc_row10_col15, #T_409cc_row10_col16 {\n",
       "  font-size: 6pt;\n",
       "  background-color: #000000;\n",
       "  color: #f1f1f1;\n",
       "}\n",
       "#T_409cc_row1_col11 {\n",
       "  font-size: 6pt;\n",
       "  background-color: #606060;\n",
       "  color: #f1f1f1;\n",
       "}\n",
       "#T_409cc_row1_col12 {\n",
       "  font-size: 6pt;\n",
       "  background-color: #4d4d4d;\n",
       "  color: #f1f1f1;\n",
       "}\n",
       "#T_409cc_row1_col14 {\n",
       "  font-size: 6pt;\n",
       "  background-color: #bbbbbb;\n",
       "  color: #000000;\n",
       "}\n",
       "#T_409cc_row2_col3 {\n",
       "  font-size: 6pt;\n",
       "  background-color: #e4e4e4;\n",
       "  color: #000000;\n",
       "}\n",
       "#T_409cc_row2_col4, #T_409cc_row8_col6 {\n",
       "  font-size: 6pt;\n",
       "  background-color: #6b6b6b;\n",
       "  color: #f1f1f1;\n",
       "}\n",
       "#T_409cc_row2_col8, #T_409cc_row2_col14, #T_409cc_row3_col14 {\n",
       "  font-size: 6pt;\n",
       "  background-color: #171717;\n",
       "  color: #f1f1f1;\n",
       "}\n",
       "#T_409cc_row2_col9, #T_409cc_row3_col11 {\n",
       "  font-size: 6pt;\n",
       "  background-color: #4b4b4b;\n",
       "  color: #f1f1f1;\n",
       "}\n",
       "#T_409cc_row2_col10, #T_409cc_row7_col10, #T_409cc_row8_col8, #T_409cc_row8_col10, #T_409cc_row9_col8, #T_409cc_row9_col10 {\n",
       "  font-size: 6pt;\n",
       "  background-color: #010101;\n",
       "  color: #f1f1f1;\n",
       "}\n",
       "#T_409cc_row3_col1 {\n",
       "  font-size: 6pt;\n",
       "  background-color: #272727;\n",
       "  color: #f1f1f1;\n",
       "}\n",
       "#T_409cc_row3_col2 {\n",
       "  font-size: 6pt;\n",
       "  background-color: #0a0a0a;\n",
       "  color: #f1f1f1;\n",
       "}\n",
       "#T_409cc_row3_col3 {\n",
       "  font-size: 6pt;\n",
       "  background-color: #050505;\n",
       "  color: #f1f1f1;\n",
       "}\n",
       "#T_409cc_row3_col5 {\n",
       "  font-size: 6pt;\n",
       "  background-color: #333333;\n",
       "  color: #f1f1f1;\n",
       "}\n",
       "#T_409cc_row3_col6 {\n",
       "  font-size: 6pt;\n",
       "  background-color: #e6e6e6;\n",
       "  color: #000000;\n",
       "}\n",
       "#T_409cc_row3_col7, #T_409cc_row3_col10 {\n",
       "  font-size: 6pt;\n",
       "  background-color: #fafafa;\n",
       "  color: #000000;\n",
       "}\n",
       "#T_409cc_row3_col8 {\n",
       "  font-size: 6pt;\n",
       "  background-color: #fbfbfb;\n",
       "  color: #000000;\n",
       "}\n",
       "#T_409cc_row3_col9 {\n",
       "  font-size: 6pt;\n",
       "  background-color: #fdfdfd;\n",
       "  color: #000000;\n",
       "}\n",
       "#T_409cc_row4_col4 {\n",
       "  font-size: 6pt;\n",
       "  background-color: #1b1b1b;\n",
       "  color: #f1f1f1;\n",
       "}\n",
       "#T_409cc_row4_col5 {\n",
       "  font-size: 6pt;\n",
       "  background-color: #e0e0e0;\n",
       "  color: #000000;\n",
       "}\n",
       "#T_409cc_row4_col11 {\n",
       "  font-size: 6pt;\n",
       "  background-color: #4e4e4e;\n",
       "  color: #f1f1f1;\n",
       "}\n",
       "#T_409cc_row4_col14 {\n",
       "  font-size: 6pt;\n",
       "  background-color: #767676;\n",
       "  color: #f1f1f1;\n",
       "}\n",
       "#T_409cc_row5_col1 {\n",
       "  font-size: 6pt;\n",
       "  background-color: #fcfcfc;\n",
       "  color: #000000;\n",
       "}\n",
       "#T_409cc_row5_col2, #T_409cc_row5_col3 {\n",
       "  font-size: 6pt;\n",
       "  background-color: #f6f6f6;\n",
       "  color: #000000;\n",
       "}\n",
       "#T_409cc_row5_col4, #T_409cc_row7_col7 {\n",
       "  font-size: 6pt;\n",
       "  background-color: #f8f8f8;\n",
       "  color: #000000;\n",
       "}\n",
       "#T_409cc_row5_col10, #T_409cc_row10_col7 {\n",
       "  font-size: 6pt;\n",
       "  background-color: #e8e8e8;\n",
       "  color: #000000;\n",
       "}\n",
       "#T_409cc_row5_col11 {\n",
       "  font-size: 6pt;\n",
       "  background-color: #222222;\n",
       "  color: #f1f1f1;\n",
       "}\n",
       "#T_409cc_row5_col13, #T_409cc_row6_col12 {\n",
       "  font-size: 6pt;\n",
       "  background-color: #090909;\n",
       "  color: #f1f1f1;\n",
       "}\n",
       "#T_409cc_row5_col14 {\n",
       "  font-size: 6pt;\n",
       "  background-color: #d0d0d0;\n",
       "  color: #000000;\n",
       "}\n",
       "#T_409cc_row6_col10, #T_409cc_row7_col11, #T_409cc_row9_col6 {\n",
       "  font-size: 6pt;\n",
       "  background-color: #060606;\n",
       "  color: #f1f1f1;\n",
       "}\n",
       "#T_409cc_row6_col13 {\n",
       "  font-size: 6pt;\n",
       "  background-color: #979797;\n",
       "  color: #f1f1f1;\n",
       "}\n",
       "#T_409cc_row7_col8 {\n",
       "  font-size: 6pt;\n",
       "  background-color: #b6b6b6;\n",
       "  color: #000000;\n",
       "}\n",
       "#T_409cc_row7_col9 {\n",
       "  font-size: 6pt;\n",
       "  background-color: #252525;\n",
       "  color: #f1f1f1;\n",
       "}\n",
       "#T_409cc_row7_col12 {\n",
       "  font-size: 6pt;\n",
       "  background-color: #999999;\n",
       "  color: #f1f1f1;\n",
       "}\n",
       "#T_409cc_row8_col5 {\n",
       "  font-size: 6pt;\n",
       "  background-color: #f9f9f9;\n",
       "  color: #000000;\n",
       "}\n",
       "#T_409cc_row8_col7 {\n",
       "  font-size: 6pt;\n",
       "  background-color: #101010;\n",
       "  color: #f1f1f1;\n",
       "}\n",
       "#T_409cc_row8_col9, #T_409cc_row9_col9 {\n",
       "  font-size: 6pt;\n",
       "  background-color: #020202;\n",
       "  color: #f1f1f1;\n",
       "}\n",
       "#T_409cc_row8_col11 {\n",
       "  font-size: 6pt;\n",
       "  background-color: #545454;\n",
       "  color: #f1f1f1;\n",
       "}\n",
       "#T_409cc_row8_col12 {\n",
       "  font-size: 6pt;\n",
       "  background-color: #f1f1f1;\n",
       "  color: #000000;\n",
       "}\n",
       "#T_409cc_row9_col5 {\n",
       "  font-size: 6pt;\n",
       "  background-color: #f7f7f7;\n",
       "  color: #000000;\n",
       "}\n",
       "#T_409cc_row9_col7 {\n",
       "  font-size: 6pt;\n",
       "  background-color: #030303;\n",
       "  color: #f1f1f1;\n",
       "}\n",
       "#T_409cc_row9_col12 {\n",
       "  font-size: 6pt;\n",
       "  background-color: #181818;\n",
       "  color: #f1f1f1;\n",
       "}\n",
       "#T_409cc_row9_col13 {\n",
       "  font-size: 6pt;\n",
       "  background-color: #303030;\n",
       "  color: #f1f1f1;\n",
       "}\n",
       "#T_409cc_row9_col14 {\n",
       "  font-size: 6pt;\n",
       "  background-color: #a9a9a9;\n",
       "  color: #f1f1f1;\n",
       "}\n",
       "#T_409cc_row9_col15 {\n",
       "  font-size: 6pt;\n",
       "  background-color: #fefefe;\n",
       "  color: #000000;\n",
       "}\n",
       "#T_409cc_row10_col8, #T_409cc_row10_col9 {\n",
       "  font-size: 6pt;\n",
       "  background-color: #bababa;\n",
       "  color: #000000;\n",
       "}\n",
       "#T_409cc_row10_col10 {\n",
       "  font-size: 6pt;\n",
       "  background-color: #393939;\n",
       "  color: #f1f1f1;\n",
       "}\n",
       "</style>\n",
       "<table id=\"T_409cc\">\n",
       "  <thead>\n",
       "    <tr>\n",
       "      <th class=\"blank level0\" >&nbsp;</th>\n",
       "      <th id=\"T_409cc_level0_col0\" class=\"col_heading level0 col0\" >0</th>\n",
       "      <th id=\"T_409cc_level0_col1\" class=\"col_heading level0 col1\" >1</th>\n",
       "      <th id=\"T_409cc_level0_col2\" class=\"col_heading level0 col2\" >2</th>\n",
       "      <th id=\"T_409cc_level0_col3\" class=\"col_heading level0 col3\" >3</th>\n",
       "      <th id=\"T_409cc_level0_col4\" class=\"col_heading level0 col4\" >4</th>\n",
       "      <th id=\"T_409cc_level0_col5\" class=\"col_heading level0 col5\" >5</th>\n",
       "      <th id=\"T_409cc_level0_col6\" class=\"col_heading level0 col6\" >6</th>\n",
       "      <th id=\"T_409cc_level0_col7\" class=\"col_heading level0 col7\" >7</th>\n",
       "      <th id=\"T_409cc_level0_col8\" class=\"col_heading level0 col8\" >8</th>\n",
       "      <th id=\"T_409cc_level0_col9\" class=\"col_heading level0 col9\" >9</th>\n",
       "      <th id=\"T_409cc_level0_col10\" class=\"col_heading level0 col10\" >10</th>\n",
       "      <th id=\"T_409cc_level0_col11\" class=\"col_heading level0 col11\" >11</th>\n",
       "      <th id=\"T_409cc_level0_col12\" class=\"col_heading level0 col12\" >12</th>\n",
       "      <th id=\"T_409cc_level0_col13\" class=\"col_heading level0 col13\" >13</th>\n",
       "      <th id=\"T_409cc_level0_col14\" class=\"col_heading level0 col14\" >14</th>\n",
       "      <th id=\"T_409cc_level0_col15\" class=\"col_heading level0 col15\" >15</th>\n",
       "      <th id=\"T_409cc_level0_col16\" class=\"col_heading level0 col16\" >16</th>\n",
       "      <th id=\"T_409cc_level0_col17\" class=\"col_heading level0 col17\" >17</th>\n",
       "    </tr>\n",
       "  </thead>\n",
       "  <tbody>\n",
       "    <tr>\n",
       "      <th id=\"T_409cc_level0_row0\" class=\"row_heading level0 row0\" >0</th>\n",
       "      <td id=\"T_409cc_row0_col0\" class=\"data row0 col0\" >0</td>\n",
       "      <td id=\"T_409cc_row0_col1\" class=\"data row0 col1\" >0</td>\n",
       "      <td id=\"T_409cc_row0_col2\" class=\"data row0 col2\" >0</td>\n",
       "      <td id=\"T_409cc_row0_col3\" class=\"data row0 col3\" >0</td>\n",
       "      <td id=\"T_409cc_row0_col4\" class=\"data row0 col4\" >0</td>\n",
       "      <td id=\"T_409cc_row0_col5\" class=\"data row0 col5\" >0</td>\n",
       "      <td id=\"T_409cc_row0_col6\" class=\"data row0 col6\" >0</td>\n",
       "      <td id=\"T_409cc_row0_col7\" class=\"data row0 col7\" >0</td>\n",
       "      <td id=\"T_409cc_row0_col8\" class=\"data row0 col8\" >0</td>\n",
       "      <td id=\"T_409cc_row0_col9\" class=\"data row0 col9\" >0</td>\n",
       "      <td id=\"T_409cc_row0_col10\" class=\"data row0 col10\" >0</td>\n",
       "      <td id=\"T_409cc_row0_col11\" class=\"data row0 col11\" >0</td>\n",
       "      <td id=\"T_409cc_row0_col12\" class=\"data row0 col12\" >0</td>\n",
       "      <td id=\"T_409cc_row0_col13\" class=\"data row0 col13\" >0</td>\n",
       "      <td id=\"T_409cc_row0_col14\" class=\"data row0 col14\" >0</td>\n",
       "      <td id=\"T_409cc_row0_col15\" class=\"data row0 col15\" >0</td>\n",
       "      <td id=\"T_409cc_row0_col16\" class=\"data row0 col16\" >0</td>\n",
       "      <td id=\"T_409cc_row0_col17\" class=\"data row0 col17\" >0</td>\n",
       "    </tr>\n",
       "    <tr>\n",
       "      <th id=\"T_409cc_level0_row1\" class=\"row_heading level0 row1\" >1</th>\n",
       "      <td id=\"T_409cc_row1_col0\" class=\"data row1 col0\" >0</td>\n",
       "      <td id=\"T_409cc_row1_col1\" class=\"data row1 col1\" >0</td>\n",
       "      <td id=\"T_409cc_row1_col2\" class=\"data row1 col2\" >0</td>\n",
       "      <td id=\"T_409cc_row1_col3\" class=\"data row1 col3\" >0</td>\n",
       "      <td id=\"T_409cc_row1_col4\" class=\"data row1 col4\" >0</td>\n",
       "      <td id=\"T_409cc_row1_col5\" class=\"data row1 col5\" >29</td>\n",
       "      <td id=\"T_409cc_row1_col6\" class=\"data row1 col6\" >150</td>\n",
       "      <td id=\"T_409cc_row1_col7\" class=\"data row1 col7\" >195</td>\n",
       "      <td id=\"T_409cc_row1_col8\" class=\"data row1 col8\" >254</td>\n",
       "      <td id=\"T_409cc_row1_col9\" class=\"data row1 col9\" >255</td>\n",
       "      <td id=\"T_409cc_row1_col10\" class=\"data row1 col10\" >254</td>\n",
       "      <td id=\"T_409cc_row1_col11\" class=\"data row1 col11\" >176</td>\n",
       "      <td id=\"T_409cc_row1_col12\" class=\"data row1 col12\" >193</td>\n",
       "      <td id=\"T_409cc_row1_col13\" class=\"data row1 col13\" >150</td>\n",
       "      <td id=\"T_409cc_row1_col14\" class=\"data row1 col14\" >96</td>\n",
       "      <td id=\"T_409cc_row1_col15\" class=\"data row1 col15\" >0</td>\n",
       "      <td id=\"T_409cc_row1_col16\" class=\"data row1 col16\" >0</td>\n",
       "      <td id=\"T_409cc_row1_col17\" class=\"data row1 col17\" >0</td>\n",
       "    </tr>\n",
       "    <tr>\n",
       "      <th id=\"T_409cc_level0_row2\" class=\"row_heading level0 row2\" >2</th>\n",
       "      <td id=\"T_409cc_row2_col0\" class=\"data row2 col0\" >0</td>\n",
       "      <td id=\"T_409cc_row2_col1\" class=\"data row2 col1\" >0</td>\n",
       "      <td id=\"T_409cc_row2_col2\" class=\"data row2 col2\" >0</td>\n",
       "      <td id=\"T_409cc_row2_col3\" class=\"data row2 col3\" >48</td>\n",
       "      <td id=\"T_409cc_row2_col4\" class=\"data row2 col4\" >166</td>\n",
       "      <td id=\"T_409cc_row2_col5\" class=\"data row2 col5\" >224</td>\n",
       "      <td id=\"T_409cc_row2_col6\" class=\"data row2 col6\" >253</td>\n",
       "      <td id=\"T_409cc_row2_col7\" class=\"data row2 col7\" >253</td>\n",
       "      <td id=\"T_409cc_row2_col8\" class=\"data row2 col8\" >234</td>\n",
       "      <td id=\"T_409cc_row2_col9\" class=\"data row2 col9\" >196</td>\n",
       "      <td id=\"T_409cc_row2_col10\" class=\"data row2 col10\" >253</td>\n",
       "      <td id=\"T_409cc_row2_col11\" class=\"data row2 col11\" >253</td>\n",
       "      <td id=\"T_409cc_row2_col12\" class=\"data row2 col12\" >253</td>\n",
       "      <td id=\"T_409cc_row2_col13\" class=\"data row2 col13\" >253</td>\n",
       "      <td id=\"T_409cc_row2_col14\" class=\"data row2 col14\" >233</td>\n",
       "      <td id=\"T_409cc_row2_col15\" class=\"data row2 col15\" >0</td>\n",
       "      <td id=\"T_409cc_row2_col16\" class=\"data row2 col16\" >0</td>\n",
       "      <td id=\"T_409cc_row2_col17\" class=\"data row2 col17\" >0</td>\n",
       "    </tr>\n",
       "    <tr>\n",
       "      <th id=\"T_409cc_level0_row3\" class=\"row_heading level0 row3\" >3</th>\n",
       "      <td id=\"T_409cc_row3_col0\" class=\"data row3 col0\" >0</td>\n",
       "      <td id=\"T_409cc_row3_col1\" class=\"data row3 col1\" >93</td>\n",
       "      <td id=\"T_409cc_row3_col2\" class=\"data row3 col2\" >244</td>\n",
       "      <td id=\"T_409cc_row3_col3\" class=\"data row3 col3\" >249</td>\n",
       "      <td id=\"T_409cc_row3_col4\" class=\"data row3 col4\" >253</td>\n",
       "      <td id=\"T_409cc_row3_col5\" class=\"data row3 col5\" >187</td>\n",
       "      <td id=\"T_409cc_row3_col6\" class=\"data row3 col6\" >46</td>\n",
       "      <td id=\"T_409cc_row3_col7\" class=\"data row3 col7\" >10</td>\n",
       "      <td id=\"T_409cc_row3_col8\" class=\"data row3 col8\" >8</td>\n",
       "      <td id=\"T_409cc_row3_col9\" class=\"data row3 col9\" >4</td>\n",
       "      <td id=\"T_409cc_row3_col10\" class=\"data row3 col10\" >10</td>\n",
       "      <td id=\"T_409cc_row3_col11\" class=\"data row3 col11\" >194</td>\n",
       "      <td id=\"T_409cc_row3_col12\" class=\"data row3 col12\" >253</td>\n",
       "      <td id=\"T_409cc_row3_col13\" class=\"data row3 col13\" >253</td>\n",
       "      <td id=\"T_409cc_row3_col14\" class=\"data row3 col14\" >233</td>\n",
       "      <td id=\"T_409cc_row3_col15\" class=\"data row3 col15\" >0</td>\n",
       "      <td id=\"T_409cc_row3_col16\" class=\"data row3 col16\" >0</td>\n",
       "      <td id=\"T_409cc_row3_col17\" class=\"data row3 col17\" >0</td>\n",
       "    </tr>\n",
       "    <tr>\n",
       "      <th id=\"T_409cc_level0_row4\" class=\"row_heading level0 row4\" >4</th>\n",
       "      <td id=\"T_409cc_row4_col0\" class=\"data row4 col0\" >0</td>\n",
       "      <td id=\"T_409cc_row4_col1\" class=\"data row4 col1\" >107</td>\n",
       "      <td id=\"T_409cc_row4_col2\" class=\"data row4 col2\" >253</td>\n",
       "      <td id=\"T_409cc_row4_col3\" class=\"data row4 col3\" >253</td>\n",
       "      <td id=\"T_409cc_row4_col4\" class=\"data row4 col4\" >230</td>\n",
       "      <td id=\"T_409cc_row4_col5\" class=\"data row4 col5\" >48</td>\n",
       "      <td id=\"T_409cc_row4_col6\" class=\"data row4 col6\" >0</td>\n",
       "      <td id=\"T_409cc_row4_col7\" class=\"data row4 col7\" >0</td>\n",
       "      <td id=\"T_409cc_row4_col8\" class=\"data row4 col8\" >0</td>\n",
       "      <td id=\"T_409cc_row4_col9\" class=\"data row4 col9\" >0</td>\n",
       "      <td id=\"T_409cc_row4_col10\" class=\"data row4 col10\" >0</td>\n",
       "      <td id=\"T_409cc_row4_col11\" class=\"data row4 col11\" >192</td>\n",
       "      <td id=\"T_409cc_row4_col12\" class=\"data row4 col12\" >253</td>\n",
       "      <td id=\"T_409cc_row4_col13\" class=\"data row4 col13\" >253</td>\n",
       "      <td id=\"T_409cc_row4_col14\" class=\"data row4 col14\" >156</td>\n",
       "      <td id=\"T_409cc_row4_col15\" class=\"data row4 col15\" >0</td>\n",
       "      <td id=\"T_409cc_row4_col16\" class=\"data row4 col16\" >0</td>\n",
       "      <td id=\"T_409cc_row4_col17\" class=\"data row4 col17\" >0</td>\n",
       "    </tr>\n",
       "    <tr>\n",
       "      <th id=\"T_409cc_level0_row5\" class=\"row_heading level0 row5\" >5</th>\n",
       "      <td id=\"T_409cc_row5_col0\" class=\"data row5 col0\" >0</td>\n",
       "      <td id=\"T_409cc_row5_col1\" class=\"data row5 col1\" >3</td>\n",
       "      <td id=\"T_409cc_row5_col2\" class=\"data row5 col2\" >20</td>\n",
       "      <td id=\"T_409cc_row5_col3\" class=\"data row5 col3\" >20</td>\n",
       "      <td id=\"T_409cc_row5_col4\" class=\"data row5 col4\" >15</td>\n",
       "      <td id=\"T_409cc_row5_col5\" class=\"data row5 col5\" >0</td>\n",
       "      <td id=\"T_409cc_row5_col6\" class=\"data row5 col6\" >0</td>\n",
       "      <td id=\"T_409cc_row5_col7\" class=\"data row5 col7\" >0</td>\n",
       "      <td id=\"T_409cc_row5_col8\" class=\"data row5 col8\" >0</td>\n",
       "      <td id=\"T_409cc_row5_col9\" class=\"data row5 col9\" >0</td>\n",
       "      <td id=\"T_409cc_row5_col10\" class=\"data row5 col10\" >43</td>\n",
       "      <td id=\"T_409cc_row5_col11\" class=\"data row5 col11\" >224</td>\n",
       "      <td id=\"T_409cc_row5_col12\" class=\"data row5 col12\" >253</td>\n",
       "      <td id=\"T_409cc_row5_col13\" class=\"data row5 col13\" >245</td>\n",
       "      <td id=\"T_409cc_row5_col14\" class=\"data row5 col14\" >74</td>\n",
       "      <td id=\"T_409cc_row5_col15\" class=\"data row5 col15\" >0</td>\n",
       "      <td id=\"T_409cc_row5_col16\" class=\"data row5 col16\" >0</td>\n",
       "      <td id=\"T_409cc_row5_col17\" class=\"data row5 col17\" >0</td>\n",
       "    </tr>\n",
       "    <tr>\n",
       "      <th id=\"T_409cc_level0_row6\" class=\"row_heading level0 row6\" >6</th>\n",
       "      <td id=\"T_409cc_row6_col0\" class=\"data row6 col0\" >0</td>\n",
       "      <td id=\"T_409cc_row6_col1\" class=\"data row6 col1\" >0</td>\n",
       "      <td id=\"T_409cc_row6_col2\" class=\"data row6 col2\" >0</td>\n",
       "      <td id=\"T_409cc_row6_col3\" class=\"data row6 col3\" >0</td>\n",
       "      <td id=\"T_409cc_row6_col4\" class=\"data row6 col4\" >0</td>\n",
       "      <td id=\"T_409cc_row6_col5\" class=\"data row6 col5\" >0</td>\n",
       "      <td id=\"T_409cc_row6_col6\" class=\"data row6 col6\" >0</td>\n",
       "      <td id=\"T_409cc_row6_col7\" class=\"data row6 col7\" >0</td>\n",
       "      <td id=\"T_409cc_row6_col8\" class=\"data row6 col8\" >0</td>\n",
       "      <td id=\"T_409cc_row6_col9\" class=\"data row6 col9\" >0</td>\n",
       "      <td id=\"T_409cc_row6_col10\" class=\"data row6 col10\" >249</td>\n",
       "      <td id=\"T_409cc_row6_col11\" class=\"data row6 col11\" >253</td>\n",
       "      <td id=\"T_409cc_row6_col12\" class=\"data row6 col12\" >245</td>\n",
       "      <td id=\"T_409cc_row6_col13\" class=\"data row6 col13\" >126</td>\n",
       "      <td id=\"T_409cc_row6_col14\" class=\"data row6 col14\" >0</td>\n",
       "      <td id=\"T_409cc_row6_col15\" class=\"data row6 col15\" >0</td>\n",
       "      <td id=\"T_409cc_row6_col16\" class=\"data row6 col16\" >0</td>\n",
       "      <td id=\"T_409cc_row6_col17\" class=\"data row6 col17\" >0</td>\n",
       "    </tr>\n",
       "    <tr>\n",
       "      <th id=\"T_409cc_level0_row7\" class=\"row_heading level0 row7\" >7</th>\n",
       "      <td id=\"T_409cc_row7_col0\" class=\"data row7 col0\" >0</td>\n",
       "      <td id=\"T_409cc_row7_col1\" class=\"data row7 col1\" >0</td>\n",
       "      <td id=\"T_409cc_row7_col2\" class=\"data row7 col2\" >0</td>\n",
       "      <td id=\"T_409cc_row7_col3\" class=\"data row7 col3\" >0</td>\n",
       "      <td id=\"T_409cc_row7_col4\" class=\"data row7 col4\" >0</td>\n",
       "      <td id=\"T_409cc_row7_col5\" class=\"data row7 col5\" >0</td>\n",
       "      <td id=\"T_409cc_row7_col6\" class=\"data row7 col6\" >0</td>\n",
       "      <td id=\"T_409cc_row7_col7\" class=\"data row7 col7\" >14</td>\n",
       "      <td id=\"T_409cc_row7_col8\" class=\"data row7 col8\" >101</td>\n",
       "      <td id=\"T_409cc_row7_col9\" class=\"data row7 col9\" >223</td>\n",
       "      <td id=\"T_409cc_row7_col10\" class=\"data row7 col10\" >253</td>\n",
       "      <td id=\"T_409cc_row7_col11\" class=\"data row7 col11\" >248</td>\n",
       "      <td id=\"T_409cc_row7_col12\" class=\"data row7 col12\" >124</td>\n",
       "      <td id=\"T_409cc_row7_col13\" class=\"data row7 col13\" >0</td>\n",
       "      <td id=\"T_409cc_row7_col14\" class=\"data row7 col14\" >0</td>\n",
       "      <td id=\"T_409cc_row7_col15\" class=\"data row7 col15\" >0</td>\n",
       "      <td id=\"T_409cc_row7_col16\" class=\"data row7 col16\" >0</td>\n",
       "      <td id=\"T_409cc_row7_col17\" class=\"data row7 col17\" >0</td>\n",
       "    </tr>\n",
       "    <tr>\n",
       "      <th id=\"T_409cc_level0_row8\" class=\"row_heading level0 row8\" >8</th>\n",
       "      <td id=\"T_409cc_row8_col0\" class=\"data row8 col0\" >0</td>\n",
       "      <td id=\"T_409cc_row8_col1\" class=\"data row8 col1\" >0</td>\n",
       "      <td id=\"T_409cc_row8_col2\" class=\"data row8 col2\" >0</td>\n",
       "      <td id=\"T_409cc_row8_col3\" class=\"data row8 col3\" >0</td>\n",
       "      <td id=\"T_409cc_row8_col4\" class=\"data row8 col4\" >0</td>\n",
       "      <td id=\"T_409cc_row8_col5\" class=\"data row8 col5\" >11</td>\n",
       "      <td id=\"T_409cc_row8_col6\" class=\"data row8 col6\" >166</td>\n",
       "      <td id=\"T_409cc_row8_col7\" class=\"data row8 col7\" >239</td>\n",
       "      <td id=\"T_409cc_row8_col8\" class=\"data row8 col8\" >253</td>\n",
       "      <td id=\"T_409cc_row8_col9\" class=\"data row8 col9\" >253</td>\n",
       "      <td id=\"T_409cc_row8_col10\" class=\"data row8 col10\" >253</td>\n",
       "      <td id=\"T_409cc_row8_col11\" class=\"data row8 col11\" >187</td>\n",
       "      <td id=\"T_409cc_row8_col12\" class=\"data row8 col12\" >30</td>\n",
       "      <td id=\"T_409cc_row8_col13\" class=\"data row8 col13\" >0</td>\n",
       "      <td id=\"T_409cc_row8_col14\" class=\"data row8 col14\" >0</td>\n",
       "      <td id=\"T_409cc_row8_col15\" class=\"data row8 col15\" >0</td>\n",
       "      <td id=\"T_409cc_row8_col16\" class=\"data row8 col16\" >0</td>\n",
       "      <td id=\"T_409cc_row8_col17\" class=\"data row8 col17\" >0</td>\n",
       "    </tr>\n",
       "    <tr>\n",
       "      <th id=\"T_409cc_level0_row9\" class=\"row_heading level0 row9\" >9</th>\n",
       "      <td id=\"T_409cc_row9_col0\" class=\"data row9 col0\" >0</td>\n",
       "      <td id=\"T_409cc_row9_col1\" class=\"data row9 col1\" >0</td>\n",
       "      <td id=\"T_409cc_row9_col2\" class=\"data row9 col2\" >0</td>\n",
       "      <td id=\"T_409cc_row9_col3\" class=\"data row9 col3\" >0</td>\n",
       "      <td id=\"T_409cc_row9_col4\" class=\"data row9 col4\" >0</td>\n",
       "      <td id=\"T_409cc_row9_col5\" class=\"data row9 col5\" >16</td>\n",
       "      <td id=\"T_409cc_row9_col6\" class=\"data row9 col6\" >248</td>\n",
       "      <td id=\"T_409cc_row9_col7\" class=\"data row9 col7\" >250</td>\n",
       "      <td id=\"T_409cc_row9_col8\" class=\"data row9 col8\" >253</td>\n",
       "      <td id=\"T_409cc_row9_col9\" class=\"data row9 col9\" >253</td>\n",
       "      <td id=\"T_409cc_row9_col10\" class=\"data row9 col10\" >253</td>\n",
       "      <td id=\"T_409cc_row9_col11\" class=\"data row9 col11\" >253</td>\n",
       "      <td id=\"T_409cc_row9_col12\" class=\"data row9 col12\" >232</td>\n",
       "      <td id=\"T_409cc_row9_col13\" class=\"data row9 col13\" >213</td>\n",
       "      <td id=\"T_409cc_row9_col14\" class=\"data row9 col14\" >111</td>\n",
       "      <td id=\"T_409cc_row9_col15\" class=\"data row9 col15\" >2</td>\n",
       "      <td id=\"T_409cc_row9_col16\" class=\"data row9 col16\" >0</td>\n",
       "      <td id=\"T_409cc_row9_col17\" class=\"data row9 col17\" >0</td>\n",
       "    </tr>\n",
       "    <tr>\n",
       "      <th id=\"T_409cc_level0_row10\" class=\"row_heading level0 row10\" >10</th>\n",
       "      <td id=\"T_409cc_row10_col0\" class=\"data row10 col0\" >0</td>\n",
       "      <td id=\"T_409cc_row10_col1\" class=\"data row10 col1\" >0</td>\n",
       "      <td id=\"T_409cc_row10_col2\" class=\"data row10 col2\" >0</td>\n",
       "      <td id=\"T_409cc_row10_col3\" class=\"data row10 col3\" >0</td>\n",
       "      <td id=\"T_409cc_row10_col4\" class=\"data row10 col4\" >0</td>\n",
       "      <td id=\"T_409cc_row10_col5\" class=\"data row10 col5\" >0</td>\n",
       "      <td id=\"T_409cc_row10_col6\" class=\"data row10 col6\" >0</td>\n",
       "      <td id=\"T_409cc_row10_col7\" class=\"data row10 col7\" >43</td>\n",
       "      <td id=\"T_409cc_row10_col8\" class=\"data row10 col8\" >98</td>\n",
       "      <td id=\"T_409cc_row10_col9\" class=\"data row10 col9\" >98</td>\n",
       "      <td id=\"T_409cc_row10_col10\" class=\"data row10 col10\" >208</td>\n",
       "      <td id=\"T_409cc_row10_col11\" class=\"data row10 col11\" >253</td>\n",
       "      <td id=\"T_409cc_row10_col12\" class=\"data row10 col12\" >253</td>\n",
       "      <td id=\"T_409cc_row10_col13\" class=\"data row10 col13\" >253</td>\n",
       "      <td id=\"T_409cc_row10_col14\" class=\"data row10 col14\" >253</td>\n",
       "      <td id=\"T_409cc_row10_col15\" class=\"data row10 col15\" >187</td>\n",
       "      <td id=\"T_409cc_row10_col16\" class=\"data row10 col16\" >22</td>\n",
       "      <td id=\"T_409cc_row10_col17\" class=\"data row10 col17\" >0</td>\n",
       "    </tr>\n",
       "  </tbody>\n",
       "</table>\n"
      ],
      "text/plain": [
       "<pandas.io.formats.style.Styler at 0x2acd1d1b0>"
      ]
     },
     "execution_count": 246,
     "metadata": {},
     "output_type": "execute_result"
    }
   ],
   "source": [
    "im3_t = tensor(im3)\n",
    "df = pd.DataFrame(im3_t[4:15, 4:22])\n",
    "df.style.set_properties(**{'font-size': '6pt'}).background_gradient('Greys')"
   ]
  },
  {
   "cell_type": "code",
   "execution_count": 247,
   "metadata": {},
   "outputs": [
    {
     "data": {
      "text/plain": [
       "(6131, 6265)"
      ]
     },
     "execution_count": 247,
     "metadata": {},
     "output_type": "execute_result"
    }
   ],
   "source": [
    "seven_tensors = [tensor(Image.open(o)) for o in sevens]\n",
    "three_tensors = [tensor(Image.open(o)) for o in threes]\n",
    "len(three_tensors), len(seven_tensors)"
   ]
  },
  {
   "cell_type": "code",
   "execution_count": 248,
   "metadata": {},
   "outputs": [
    {
     "data": {
      "image/png": "[encoded data removed]",
      "text/plain": [
       "<Figure size 100x100 with 1 Axes>"
      ]
     },
     "metadata": {},
     "output_type": "display_data"
    }
   ],
   "source": [
    "show_image(three_tensors[1]);"
   ]
  },
  {
   "cell_type": "code",
   "execution_count": 249,
   "metadata": {},
   "outputs": [
    {
     "data": {
      "text/plain": [
       "torch.Size([6131, 28, 28])"
      ]
     },
     "execution_count": 249,
     "metadata": {},
     "output_type": "execute_result"
    }
   ],
   "source": [
    "stacked_sevens = torch.stack(seven_tensors).float()/255\n",
    "stacked_threes = torch.stack(three_tensors).float()/255\n",
    "stacked_threes.shape"
   ]
  },
  {
   "cell_type": "code",
   "execution_count": 250,
   "metadata": {},
   "outputs": [
    {
     "data": {
      "image/png": "[encoded data removed]",
      "text/plain": [
       "<Figure size 100x100 with 1 Axes>"
      ]
     },
     "metadata": {},
     "output_type": "display_data"
    }
   ],
   "source": [
    "mean3 = stacked_threes.mean(0)\n",
    "show_image(mean3);"
   ]
  },
  {
   "cell_type": "code",
   "execution_count": 251,
   "metadata": {},
   "outputs": [
    {
     "data": {
      "image/png": "[encoded data removed]",
      "text/plain": [
       "<Figure size 100x100 with 1 Axes>"
      ]
     },
     "metadata": {},
     "output_type": "display_data"
    }
   ],
   "source": [
    "mean7 = stacked_sevens.mean(0)\n",
    "show_image(mean7);"
   ]
  },
  {
   "cell_type": "code",
   "execution_count": 252,
   "metadata": {},
   "outputs": [
    {
     "data": {
      "text/plain": [
       "(tensor(0.1114), tensor(0.2021))"
      ]
     },
     "execution_count": 252,
     "metadata": {},
     "output_type": "execute_result"
    }
   ],
   "source": [
    "a_3 = stacked_threes[1]\n",
    "\n",
    "dist_3_abs = (a_3 - mean3).abs().mean()\n",
    "dist_3_sqr = ((a_3 - mean3)**2).mean().sqrt()\n",
    "dist_3_abs, dist_3_sqr"
   ]
  },
  {
   "cell_type": "code",
   "execution_count": 253,
   "metadata": {},
   "outputs": [
    {
     "data": {
      "image/png": "[encoded data removed]",
      "text/plain": [
       "<Figure size 100x100 with 1 Axes>"
      ]
     },
     "metadata": {},
     "output_type": "display_data"
    }
   ],
   "source": [
    "show_image((a_3 - mean3)**2);"
   ]
  },
  {
   "cell_type": "code",
   "execution_count": 254,
   "metadata": {},
   "outputs": [
    {
     "data": {
      "image/png": "[encoded data removed]",
      "text/plain": [
       "<Figure size 100x100 with 1 Axes>"
      ]
     },
     "metadata": {},
     "output_type": "display_data"
    }
   ],
   "source": [
    "show_image((a_3 - mean7)**2);"
   ]
  },
  {
   "cell_type": "code",
   "execution_count": 255,
   "metadata": {},
   "outputs": [
    {
     "data": {
      "text/plain": [
       "(tensor(0.1586), tensor(0.3021))"
      ]
     },
     "execution_count": 255,
     "metadata": {},
     "output_type": "execute_result"
    }
   ],
   "source": [
    "dist_7_abs = (a_3-mean7).abs().mean()\n",
    "dist_7_sqr = ((a_3-mean7)**2).mean().sqrt()\n",
    "dist_7_abs, dist_7_sqr"
   ]
  },
  {
   "cell_type": "code",
   "execution_count": 256,
   "metadata": {},
   "outputs": [
    {
     "data": {
      "text/plain": [
       "(tensor(0.1586), tensor(0.3021))"
      ]
     },
     "execution_count": 256,
     "metadata": {},
     "output_type": "execute_result"
    }
   ],
   "source": [
    "F.l1_loss(a_3.float(), mean7), F.mse_loss(a_3, mean7).sqrt()"
   ]
  },
  {
   "cell_type": "code",
   "execution_count": 257,
   "metadata": {},
   "outputs": [
    {
     "data": {
      "text/plain": [
       "(torch.Size([1010, 28, 28]), torch.Size([1028, 28, 28]))"
      ]
     },
     "execution_count": 257,
     "metadata": {},
     "output_type": "execute_result"
    }
   ],
   "source": [
    "valid_3_tens = torch.stack([tensor(Image.open(o)) for o in (path/'valid'/'3').ls()])\n",
    "valid_3_tens = valid_3_tens.float()/255\n",
    "\n",
    "valid_7_tens = torch.stack([tensor(Image.open(o)) for o in (path/'valid'/'7').ls()])\n",
    "valid_7_tens = valid_7_tens.float()/255\n",
    "\n",
    "valid_3_tens.shape, valid_7_tens.shape"
   ]
  },
  {
   "cell_type": "code",
   "execution_count": 258,
   "metadata": {},
   "outputs": [
    {
     "data": {
      "text/plain": [
       "tensor(0.1114)"
      ]
     },
     "execution_count": 258,
     "metadata": {},
     "output_type": "execute_result"
    }
   ],
   "source": [
    "def minst_distance(a,b): return(a-b).abs().mean((-1, -2))\n",
    "minst_distance(a_3, mean3)"
   ]
  },
  {
   "cell_type": "code",
   "execution_count": 259,
   "metadata": {},
   "outputs": [
    {
     "data": {
      "text/plain": [
       "(tensor([0.1634, 0.1145, 0.1363,  ..., 0.1105, 0.1111, 0.1640]),\n",
       " torch.Size([1010]))"
      ]
     },
     "execution_count": 259,
     "metadata": {},
     "output_type": "execute_result"
    }
   ],
   "source": [
    "valid_3_dist = minst_distance(valid_3_tens, mean3)\n",
    "valid_3_dist, valid_3_dist.shape"
   ]
  },
  {
   "cell_type": "code",
   "execution_count": 260,
   "metadata": {},
   "outputs": [
    {
     "data": {
      "text/plain": [
       "(tensor(True), tensor(1.))"
      ]
     },
     "execution_count": 260,
     "metadata": {},
     "output_type": "execute_result"
    }
   ],
   "source": [
    "def is_3(x): return minst_distance(x,mean3) < minst_distance(x,mean7)\n",
    "is_3(a_3), is_3(a_3).float()"
   ]
  },
  {
   "cell_type": "code",
   "execution_count": 261,
   "metadata": {},
   "outputs": [
    {
     "data": {
      "text/plain": [
       "tensor([True, True, True,  ..., True, True, True])"
      ]
     },
     "execution_count": 261,
     "metadata": {},
     "output_type": "execute_result"
    }
   ],
   "source": [
    "is_3(valid_3_tens)"
   ]
  },
  {
   "cell_type": "code",
   "execution_count": 262,
   "metadata": {},
   "outputs": [
    {
     "data": {
      "text/plain": [
       "(tensor(0.9168), tensor(0.9854), tensor(0.9511))"
      ]
     },
     "execution_count": 262,
     "metadata": {},
     "output_type": "execute_result"
    }
   ],
   "source": [
    "accuracy_3s =      is_3(valid_3_tens).float() .mean()\n",
    "accuracy_7s = (1 - is_3(valid_7_tens).float()).mean()\n",
    "\n",
    "accuracy_3s,accuracy_7s,(accuracy_3s+accuracy_7s)/2"
   ]
  },
  {
   "cell_type": "code",
   "execution_count": 263,
   "metadata": {},
   "outputs": [],
   "source": [
    "train_x = torch.cat([stacked_threes, stacked_sevens]).view(-1, 28*28)"
   ]
  },
  {
   "cell_type": "code",
   "execution_count": 264,
   "metadata": {},
   "outputs": [
    {
     "data": {
      "text/plain": [
       "(torch.Size([12396, 784]), torch.Size([12396, 1]))"
      ]
     },
     "execution_count": 264,
     "metadata": {},
     "output_type": "execute_result"
    }
   ],
   "source": [
    "train_y = tensor([1]*len(threes) + [0]*len(sevens)).unsqueeze(1)\n",
    "train_x.shape, train_y.shape"
   ]
  },
  {
   "cell_type": "code",
   "execution_count": 265,
   "metadata": {},
   "outputs": [
    {
     "data": {
      "text/plain": [
       "(torch.Size([784]), tensor([1]))"
      ]
     },
     "execution_count": 265,
     "metadata": {},
     "output_type": "execute_result"
    }
   ],
   "source": [
    "dset = list(zip(train_x, train_y))\n",
    "x,y = dset[0]\n",
    "x.shape, y"
   ]
  },
  {
   "cell_type": "code",
   "execution_count": 266,
   "metadata": {},
   "outputs": [],
   "source": [
    "valid_x = torch.cat([valid_3_tens, valid_7_tens]).view(-1, 28*28)\n",
    "valid_y = tensor([1]*len(valid_3_tens)+[0]*len(valid_7_tens))\n",
    "valid_dset = list(zip(valid_x, valid_y))"
   ]
  },
  {
   "cell_type": "code",
   "execution_count": 267,
   "metadata": {},
   "outputs": [],
   "source": [
    "def init_params(size, std=1.0): return(torch.randn(size)*std).requires_grad_()"
   ]
  },
  {
   "cell_type": "code",
   "execution_count": 268,
   "metadata": {},
   "outputs": [],
   "source": [
    "weights = init_params((28*28, 1))"
   ]
  },
  {
   "cell_type": "code",
   "execution_count": 269,
   "metadata": {},
   "outputs": [],
   "source": [
    "bias = init_params(1)"
   ]
  },
  {
   "cell_type": "code",
   "execution_count": 270,
   "metadata": {},
   "outputs": [
    {
     "data": {
      "text/plain": [
       "tensor([5.6385], grad_fn=<AddBackward0>)"
      ]
     },
     "execution_count": 270,
     "metadata": {},
     "output_type": "execute_result"
    }
   ],
   "source": [
    "(train_x[0]*weights.T).sum() + bias"
   ]
  },
  {
   "cell_type": "code",
   "execution_count": 271,
   "metadata": {},
   "outputs": [
    {
     "data": {
      "text/plain": [
       "tensor([[ 5.6385],\n",
       "        [ 0.2069],\n",
       "        [-1.1789],\n",
       "        ...,\n",
       "        [12.1657],\n",
       "        [ 7.8804],\n",
       "        [11.0744]], grad_fn=<AddBackward0>)"
      ]
     },
     "execution_count": 271,
     "metadata": {},
     "output_type": "execute_result"
    }
   ],
   "source": [
    "def linear1(xb): return xb@weights + bias\n",
    "preds = linear1(train_x)\n",
    "preds"
   ]
  },
  {
   "cell_type": "code",
   "execution_count": 272,
   "metadata": {},
   "outputs": [
    {
     "data": {
      "text/plain": [
       "tensor([[ True],\n",
       "        [ True],\n",
       "        [False],\n",
       "        ...,\n",
       "        [False],\n",
       "        [False],\n",
       "        [False]])"
      ]
     },
     "execution_count": 272,
     "metadata": {},
     "output_type": "execute_result"
    }
   ],
   "source": [
    "corrects = (preds>0.0).float() == train_y\n",
    "corrects"
   ]
  },
  {
   "cell_type": "code",
   "execution_count": 273,
   "metadata": {},
   "outputs": [
    {
     "data": {
      "text/plain": [
       "0.2935624420642853"
      ]
     },
     "execution_count": 273,
     "metadata": {},
     "output_type": "execute_result"
    }
   ],
   "source": [
    "corrects.float().mean().item()"
   ]
  },
  {
   "cell_type": "code",
   "execution_count": 274,
   "metadata": {},
   "outputs": [],
   "source": [
    "def mnist_loss(predictions, targets):\n",
    "    predictions = predictions.sigmoid()\n",
    "    return torch.where(targets==1, 1-predictions, predictions).mean()"
   ]
  },
  {
   "cell_type": "code",
   "execution_count": 275,
   "metadata": {},
   "outputs": [
    {
     "data": {
      "text/plain": [
       "0.6970944404602051"
      ]
     },
     "execution_count": 275,
     "metadata": {},
     "output_type": "execute_result"
    }
   ],
   "source": [
    "mnist_loss(preds, train_y).mean().item()"
   ]
  },
  {
   "cell_type": "code",
   "execution_count": 276,
   "metadata": {},
   "outputs": [
    {
     "data": {
      "text/plain": [
       "[tensor([ 7,  4,  2,  5, 14]),\n",
       " tensor([ 8,  3,  6, 13,  1]),\n",
       " tensor([ 0, 11,  9, 12, 10])]"
      ]
     },
     "execution_count": 276,
     "metadata": {},
     "output_type": "execute_result"
    }
   ],
   "source": [
    "coll = range(15)\n",
    "dl = DataLoader(coll, batch_size=5, shuffle=True)\n",
    "list(dl)"
   ]
  },
  {
   "cell_type": "code",
   "execution_count": 277,
   "metadata": {},
   "outputs": [
    {
     "data": {
      "text/plain": [
       "(torch.Size([256, 784]), torch.Size([256, 1]))"
      ]
     },
     "execution_count": 277,
     "metadata": {},
     "output_type": "execute_result"
    }
   ],
   "source": [
    "dl = DataLoader(dset, batch_size=256)\n",
    "xb,yb = first(dl)\n",
    "xb.shape, yb.shape"
   ]
  },
  {
   "cell_type": "code",
   "execution_count": 278,
   "metadata": {},
   "outputs": [],
   "source": [
    "valid_dl = DataLoader(valid_dset, batch_size=256)"
   ]
  },
  {
   "cell_type": "code",
   "execution_count": 279,
   "metadata": {},
   "outputs": [],
   "source": [
    "def calc_grad(xb, yb, model):\n",
    "    preds = model(xb)\n",
    "    loss = mnist_loss(preds,yb)\n",
    "    loss.backward()"
   ]
  },
  {
   "cell_type": "code",
   "execution_count": 280,
   "metadata": {},
   "outputs": [],
   "source": [
    "def train_epoch(model, lr, params):\n",
    "    for xb,yb in dl:\n",
    "        calc_grad(xb, yb, model)\n",
    "        for p in params:\n",
    "            p.data -= p.grad*lr\n",
    "            p.grad.zero_()"
   ]
  },
  {
   "cell_type": "code",
   "execution_count": 281,
   "metadata": {},
   "outputs": [],
   "source": [
    "def batch_accuracy(xb, yb):\n",
    "    preds = xb.sigmoid()\n",
    "    correct = (preds >0.5) == yb\n",
    "    return correct.float().mean()"
   ]
  },
  {
   "cell_type": "code",
   "execution_count": 282,
   "metadata": {},
   "outputs": [],
   "source": [
    "def validate_epoch(model):\n",
    "    accs = [batch_accuracy(model(xb), yb) for xb,yb in valid_dl]\n",
    "    return round(torch.stack(accs).mean().item(), 4)"
   ]
  },
  {
   "cell_type": "code",
   "execution_count": 283,
   "metadata": {},
   "outputs": [
    {
     "data": {
      "text/plain": [
       "0.302"
      ]
     },
     "execution_count": 283,
     "metadata": {},
     "output_type": "execute_result"
    }
   ],
   "source": [
    "validate_epoch(linear1)"
   ]
  },
  {
   "cell_type": "code",
   "execution_count": 284,
   "metadata": {},
   "outputs": [
    {
     "data": {
      "text/plain": [
       "0.5067"
      ]
     },
     "execution_count": 284,
     "metadata": {},
     "output_type": "execute_result"
    }
   ],
   "source": [
    "lr = 1.\n",
    "params = weights, bias\n",
    "train_epoch(linear1, lr, params)\n",
    "validate_epoch(linear1)"
   ]
  },
  {
   "cell_type": "code",
   "execution_count": 285,
   "metadata": {},
   "outputs": [
    {
     "name": "stdout",
     "output_type": "stream",
     "text": [
      "0.666 0.8237 0.8936 0.9209 0.9339 0.941 0.9468 0.9506 0.9538 0.9542 0.9561 0.9552 0.9566 0.958 0.959 0.959 0.9599 0.9599 0.9599 0.9604 "
     ]
    }
   ],
   "source": [
    "for i in range(20):\n",
    "    train_epoch(linear1, lr, params)\n",
    "    print(validate_epoch(linear1), end=' ')"
   ]
  },
  {
   "cell_type": "code",
   "execution_count": 286,
   "metadata": {},
   "outputs": [],
   "source": [
    "linear_model = nn.Linear(28*28, 1)"
   ]
  },
  {
   "cell_type": "code",
   "execution_count": 287,
   "metadata": {},
   "outputs": [
    {
     "data": {
      "text/plain": [
       "(torch.Size([1, 784]), torch.Size([1]))"
      ]
     },
     "execution_count": 287,
     "metadata": {},
     "output_type": "execute_result"
    }
   ],
   "source": [
    "w,b = linear_model.parameters()\n",
    "w.shape, b.shape"
   ]
  },
  {
   "cell_type": "code",
   "execution_count": 288,
   "metadata": {},
   "outputs": [],
   "source": [
    "class BasicOptim:\n",
    "    def __init__(self,params, lr):\n",
    "        self.params, self.lr = list(params), lr\n",
    "    \n",
    "    def step(self, *ars, **kwargs):\n",
    "        for p in self.params: p.data -= p.grad.data * self.lr\n",
    "\n",
    "    def zero_grad(self, *args, **kwargs):\n",
    "        for p in self.params: p.grad = None"
   ]
  },
  {
   "cell_type": "code",
   "execution_count": 289,
   "metadata": {},
   "outputs": [],
   "source": [
    "opt = BasicOptim(linear_model.parameters(), lr)"
   ]
  },
  {
   "cell_type": "code",
   "execution_count": 290,
   "metadata": {},
   "outputs": [],
   "source": [
    "def train_epoch(model):\n",
    "    for xb,yb in dl:\n",
    "        calc_grad(xb, yb, model)\n",
    "        opt.step()\n",
    "        opt.zero_grad()"
   ]
  },
  {
   "cell_type": "code",
   "execution_count": 291,
   "metadata": {},
   "outputs": [
    {
     "data": {
      "text/plain": [
       "0.5612"
      ]
     },
     "execution_count": 291,
     "metadata": {},
     "output_type": "execute_result"
    }
   ],
   "source": [
    "validate_epoch(linear_model)"
   ]
  },
  {
   "cell_type": "code",
   "execution_count": 292,
   "metadata": {},
   "outputs": [],
   "source": [
    "def train_model(model, epochs):\n",
    "    for i in range(epochs):\n",
    "        train_epoch(model)\n",
    "        print(validate_epoch(model), end=' ')"
   ]
  },
  {
   "cell_type": "code",
   "execution_count": 293,
   "metadata": {},
   "outputs": [
    {
     "name": "stdout",
     "output_type": "stream",
     "text": [
      "0.4932 0.7245 0.8553 0.9083 0.9258 0.9411 0.9463 0.9528 0.9543 0.9562 0.9576 0.96 0.9622 0.9627 0.9636 0.9641 0.9651 0.9656 0.9656 0.9661 "
     ]
    }
   ],
   "source": [
    "train_model(linear_model, 20)"
   ]
  },
  {
   "cell_type": "code",
   "execution_count": 294,
   "metadata": {},
   "outputs": [
    {
     "name": "stdout",
     "output_type": "stream",
     "text": [
      "0.4932 0.776 0.8497 0.9068 0.925 0.9391 0.9459 0.9523 0.9543 0.9562 0.9586 0.9604 0.9618 0.9622 0.9636 0.9646 0.9651 0.9656 0.9656 0.9661 "
     ]
    }
   ],
   "source": [
    "linear_model = nn.Linear(28*28,1)\n",
    "opt = SGD(linear_model.parameters(), lr)\n",
    "train_model(linear_model, 20)"
   ]
  },
  {
   "cell_type": "code",
   "execution_count": 295,
   "metadata": {},
   "outputs": [],
   "source": [
    "dls = DataLoaders(dl, valid_dl)"
   ]
  },
  {
   "cell_type": "code",
   "execution_count": 296,
   "metadata": {},
   "outputs": [],
   "source": [
    "learn = Learner(dls, nn.Linear(28*28, 1), opt_func=SGD, loss_func=mnist_loss, metrics=batch_accuracy)"
   ]
  },
  {
   "cell_type": "code",
   "execution_count": 297,
   "metadata": {},
   "outputs": [
    {
     "data": {
      "text/html": [
       "<table border=\"1\" class=\"dataframe\">\n",
       "  <thead>\n",
       "    <tr style=\"text-align: left;\">\n",
       "      <th>epoch</th>\n",
       "      <th>train_loss</th>\n",
       "      <th>valid_loss</th>\n",
       "      <th>batch_accuracy</th>\n",
       "      <th>time</th>\n",
       "    </tr>\n",
       "  </thead>\n",
       "  <tbody>\n",
       "    <tr>\n",
       "      <td>0</td>\n",
       "      <td>0.637110</td>\n",
       "      <td>0.503542</td>\n",
       "      <td>0.495584</td>\n",
       "      <td>00:00</td>\n",
       "    </tr>\n",
       "    <tr>\n",
       "      <td>1</td>\n",
       "      <td>0.540364</td>\n",
       "      <td>0.163651</td>\n",
       "      <td>0.869963</td>\n",
       "      <td>00:00</td>\n",
       "    </tr>\n",
       "    <tr>\n",
       "      <td>2</td>\n",
       "      <td>0.197389</td>\n",
       "      <td>0.203126</td>\n",
       "      <td>0.812853</td>\n",
       "      <td>00:00</td>\n",
       "    </tr>\n",
       "    <tr>\n",
       "      <td>3</td>\n",
       "      <td>0.086200</td>\n",
       "      <td>0.120720</td>\n",
       "      <td>0.898706</td>\n",
       "      <td>00:00</td>\n",
       "    </tr>\n",
       "    <tr>\n",
       "      <td>4</td>\n",
       "      <td>0.045245</td>\n",
       "      <td>0.090576</td>\n",
       "      <td>0.921285</td>\n",
       "      <td>00:00</td>\n",
       "    </tr>\n",
       "    <tr>\n",
       "      <td>5</td>\n",
       "      <td>0.029270</td>\n",
       "      <td>0.074767</td>\n",
       "      <td>0.933230</td>\n",
       "      <td>00:00</td>\n",
       "    </tr>\n",
       "    <tr>\n",
       "      <td>6</td>\n",
       "      <td>0.022719</td>\n",
       "      <td>0.065011</td>\n",
       "      <td>0.942775</td>\n",
       "      <td>00:00</td>\n",
       "    </tr>\n",
       "    <tr>\n",
       "      <td>7</td>\n",
       "      <td>0.019828</td>\n",
       "      <td>0.058557</td>\n",
       "      <td>0.950250</td>\n",
       "      <td>00:00</td>\n",
       "    </tr>\n",
       "    <tr>\n",
       "      <td>8</td>\n",
       "      <td>0.018379</td>\n",
       "      <td>0.054049</td>\n",
       "      <td>0.953087</td>\n",
       "      <td>00:00</td>\n",
       "    </tr>\n",
       "    <tr>\n",
       "      <td>9</td>\n",
       "      <td>0.017519</td>\n",
       "      <td>0.050744</td>\n",
       "      <td>0.954996</td>\n",
       "      <td>00:00</td>\n",
       "    </tr>\n",
       "  </tbody>\n",
       "</table>"
      ],
      "text/plain": [
       "<IPython.core.display.HTML object>"
      ]
     },
     "metadata": {},
     "output_type": "display_data"
    }
   ],
   "source": [
    "learn.fit(10, lr=lr)"
   ]
  },
  {
   "cell_type": "code",
   "execution_count": 298,
   "metadata": {},
   "outputs": [
    {
     "data": {
      "image/png": "[encoded data removed]",
      "text/plain": [
       "<Figure size 100x100 with 1 Axes>"
      ]
     },
     "metadata": {},
     "output_type": "display_data"
    }
   ],
   "source": [
    "w_img = weights.reshape(28,28)\n",
    "show_image(w_img);"
   ]
  },
  {
   "cell_type": "code",
   "execution_count": 300,
   "metadata": {},
   "outputs": [],
   "source": [
    "simple_net = nn.Sequential(\n",
    "    nn.Linear(28*28, 30),\n",
    "    nn.ReLU(),\n",
    "    nn.Linear(30,1)\n",
    "    )"
   ]
  },
  {
   "cell_type": "code",
   "execution_count": 301,
   "metadata": {},
   "outputs": [
    {
     "data": {
      "text/html": [
       "<table border=\"1\" class=\"dataframe\">\n",
       "  <thead>\n",
       "    <tr style=\"text-align: left;\">\n",
       "      <th>epoch</th>\n",
       "      <th>train_loss</th>\n",
       "      <th>valid_loss</th>\n",
       "      <th>batch_accuracy</th>\n",
       "      <th>time</th>\n",
       "    </tr>\n",
       "  </thead>\n",
       "  <tbody>\n",
       "    <tr>\n",
       "      <td>0</td>\n",
       "      <td>0.349386</td>\n",
       "      <td>0.392439</td>\n",
       "      <td>0.518377</td>\n",
       "      <td>00:00</td>\n",
       "    </tr>\n",
       "    <tr>\n",
       "      <td>1</td>\n",
       "      <td>0.159364</td>\n",
       "      <td>0.247796</td>\n",
       "      <td>0.781166</td>\n",
       "      <td>00:00</td>\n",
       "    </tr>\n",
       "    <tr>\n",
       "      <td>2</td>\n",
       "      <td>0.086575</td>\n",
       "      <td>0.128457</td>\n",
       "      <td>0.903996</td>\n",
       "      <td>00:00</td>\n",
       "    </tr>\n",
       "    <tr>\n",
       "      <td>3</td>\n",
       "      <td>0.055609</td>\n",
       "      <td>0.089775</td>\n",
       "      <td>0.929688</td>\n",
       "      <td>00:00</td>\n",
       "    </tr>\n",
       "    <tr>\n",
       "      <td>4</td>\n",
       "      <td>0.041412</td>\n",
       "      <td>0.072594</td>\n",
       "      <td>0.944469</td>\n",
       "      <td>00:00</td>\n",
       "    </tr>\n",
       "    <tr>\n",
       "      <td>5</td>\n",
       "      <td>0.034276</td>\n",
       "      <td>0.063084</td>\n",
       "      <td>0.951561</td>\n",
       "      <td>00:00</td>\n",
       "    </tr>\n",
       "    <tr>\n",
       "      <td>6</td>\n",
       "      <td>0.030254</td>\n",
       "      <td>0.057118</td>\n",
       "      <td>0.952979</td>\n",
       "      <td>00:00</td>\n",
       "    </tr>\n",
       "    <tr>\n",
       "      <td>7</td>\n",
       "      <td>0.027687</td>\n",
       "      <td>0.053054</td>\n",
       "      <td>0.954451</td>\n",
       "      <td>00:00</td>\n",
       "    </tr>\n",
       "    <tr>\n",
       "      <td>8</td>\n",
       "      <td>0.025862</td>\n",
       "      <td>0.050100</td>\n",
       "      <td>0.957395</td>\n",
       "      <td>00:00</td>\n",
       "    </tr>\n",
       "    <tr>\n",
       "      <td>9</td>\n",
       "      <td>0.024462</td>\n",
       "      <td>0.047845</td>\n",
       "      <td>0.959741</td>\n",
       "      <td>00:00</td>\n",
       "    </tr>\n",
       "    <tr>\n",
       "      <td>10</td>\n",
       "      <td>0.023333</td>\n",
       "      <td>0.046062</td>\n",
       "      <td>0.960178</td>\n",
       "      <td>00:00</td>\n",
       "    </tr>\n",
       "    <tr>\n",
       "      <td>11</td>\n",
       "      <td>0.022395</td>\n",
       "      <td>0.044608</td>\n",
       "      <td>0.961106</td>\n",
       "      <td>00:00</td>\n",
       "    </tr>\n",
       "    <tr>\n",
       "      <td>12</td>\n",
       "      <td>0.021598</td>\n",
       "      <td>0.043394</td>\n",
       "      <td>0.962088</td>\n",
       "      <td>00:00</td>\n",
       "    </tr>\n",
       "    <tr>\n",
       "      <td>13</td>\n",
       "      <td>0.020908</td>\n",
       "      <td>0.042356</td>\n",
       "      <td>0.963506</td>\n",
       "      <td>00:00</td>\n",
       "    </tr>\n",
       "    <tr>\n",
       "      <td>14</td>\n",
       "      <td>0.020305</td>\n",
       "      <td>0.041454</td>\n",
       "      <td>0.963506</td>\n",
       "      <td>00:00</td>\n",
       "    </tr>\n",
       "    <tr>\n",
       "      <td>15</td>\n",
       "      <td>0.019770</td>\n",
       "      <td>0.040658</td>\n",
       "      <td>0.963943</td>\n",
       "      <td>00:00</td>\n",
       "    </tr>\n",
       "    <tr>\n",
       "      <td>16</td>\n",
       "      <td>0.019292</td>\n",
       "      <td>0.039950</td>\n",
       "      <td>0.964871</td>\n",
       "      <td>00:00</td>\n",
       "    </tr>\n",
       "    <tr>\n",
       "      <td>17</td>\n",
       "      <td>0.018862</td>\n",
       "      <td>0.039314</td>\n",
       "      <td>0.965361</td>\n",
       "      <td>00:00</td>\n",
       "    </tr>\n",
       "    <tr>\n",
       "      <td>18</td>\n",
       "      <td>0.018471</td>\n",
       "      <td>0.038738</td>\n",
       "      <td>0.965852</td>\n",
       "      <td>00:00</td>\n",
       "    </tr>\n",
       "    <tr>\n",
       "      <td>19</td>\n",
       "      <td>0.018113</td>\n",
       "      <td>0.038216</td>\n",
       "      <td>0.966289</td>\n",
       "      <td>00:00</td>\n",
       "    </tr>\n",
       "    <tr>\n",
       "      <td>20</td>\n",
       "      <td>0.017784</td>\n",
       "      <td>0.037740</td>\n",
       "      <td>0.966780</td>\n",
       "      <td>00:00</td>\n",
       "    </tr>\n",
       "    <tr>\n",
       "      <td>21</td>\n",
       "      <td>0.017480</td>\n",
       "      <td>0.037305</td>\n",
       "      <td>0.966780</td>\n",
       "      <td>00:00</td>\n",
       "    </tr>\n",
       "    <tr>\n",
       "      <td>22</td>\n",
       "      <td>0.017197</td>\n",
       "      <td>0.036904</td>\n",
       "      <td>0.966780</td>\n",
       "      <td>00:00</td>\n",
       "    </tr>\n",
       "    <tr>\n",
       "      <td>23</td>\n",
       "      <td>0.016933</td>\n",
       "      <td>0.036535</td>\n",
       "      <td>0.968198</td>\n",
       "      <td>00:00</td>\n",
       "    </tr>\n",
       "    <tr>\n",
       "      <td>24</td>\n",
       "      <td>0.016686</td>\n",
       "      <td>0.036195</td>\n",
       "      <td>0.968198</td>\n",
       "      <td>00:00</td>\n",
       "    </tr>\n",
       "    <tr>\n",
       "      <td>25</td>\n",
       "      <td>0.016455</td>\n",
       "      <td>0.035879</td>\n",
       "      <td>0.968689</td>\n",
       "      <td>00:00</td>\n",
       "    </tr>\n",
       "    <tr>\n",
       "      <td>26</td>\n",
       "      <td>0.016236</td>\n",
       "      <td>0.035587</td>\n",
       "      <td>0.969179</td>\n",
       "      <td>00:00</td>\n",
       "    </tr>\n",
       "    <tr>\n",
       "      <td>27</td>\n",
       "      <td>0.016029</td>\n",
       "      <td>0.035316</td>\n",
       "      <td>0.969179</td>\n",
       "      <td>00:00</td>\n",
       "    </tr>\n",
       "    <tr>\n",
       "      <td>28</td>\n",
       "      <td>0.015833</td>\n",
       "      <td>0.035064</td>\n",
       "      <td>0.969616</td>\n",
       "      <td>00:00</td>\n",
       "    </tr>\n",
       "    <tr>\n",
       "      <td>29</td>\n",
       "      <td>0.015647</td>\n",
       "      <td>0.034829</td>\n",
       "      <td>0.970107</td>\n",
       "      <td>00:00</td>\n",
       "    </tr>\n",
       "    <tr>\n",
       "      <td>30</td>\n",
       "      <td>0.015471</td>\n",
       "      <td>0.034610</td>\n",
       "      <td>0.969616</td>\n",
       "      <td>00:00</td>\n",
       "    </tr>\n",
       "    <tr>\n",
       "      <td>31</td>\n",
       "      <td>0.015302</td>\n",
       "      <td>0.034406</td>\n",
       "      <td>0.969616</td>\n",
       "      <td>00:00</td>\n",
       "    </tr>\n",
       "    <tr>\n",
       "      <td>32</td>\n",
       "      <td>0.015141</td>\n",
       "      <td>0.034215</td>\n",
       "      <td>0.970598</td>\n",
       "      <td>00:00</td>\n",
       "    </tr>\n",
       "    <tr>\n",
       "      <td>33</td>\n",
       "      <td>0.014986</td>\n",
       "      <td>0.034036</td>\n",
       "      <td>0.970598</td>\n",
       "      <td>00:00</td>\n",
       "    </tr>\n",
       "    <tr>\n",
       "      <td>34</td>\n",
       "      <td>0.014839</td>\n",
       "      <td>0.033868</td>\n",
       "      <td>0.970598</td>\n",
       "      <td>00:00</td>\n",
       "    </tr>\n",
       "    <tr>\n",
       "      <td>35</td>\n",
       "      <td>0.014697</td>\n",
       "      <td>0.033709</td>\n",
       "      <td>0.970598</td>\n",
       "      <td>00:00</td>\n",
       "    </tr>\n",
       "    <tr>\n",
       "      <td>36</td>\n",
       "      <td>0.014561</td>\n",
       "      <td>0.033559</td>\n",
       "      <td>0.970598</td>\n",
       "      <td>00:00</td>\n",
       "    </tr>\n",
       "    <tr>\n",
       "      <td>37</td>\n",
       "      <td>0.014430</td>\n",
       "      <td>0.033417</td>\n",
       "      <td>0.970598</td>\n",
       "      <td>00:00</td>\n",
       "    </tr>\n",
       "    <tr>\n",
       "      <td>38</td>\n",
       "      <td>0.014304</td>\n",
       "      <td>0.033282</td>\n",
       "      <td>0.970107</td>\n",
       "      <td>00:00</td>\n",
       "    </tr>\n",
       "    <tr>\n",
       "      <td>39</td>\n",
       "      <td>0.014182</td>\n",
       "      <td>0.033154</td>\n",
       "      <td>0.970107</td>\n",
       "      <td>00:00</td>\n",
       "    </tr>\n",
       "  </tbody>\n",
       "</table>"
      ],
      "text/plain": [
       "<IPython.core.display.HTML object>"
      ]
     },
     "metadata": {},
     "output_type": "display_data"
    }
   ],
   "source": [
    "learn = Learner(dls, simple_net, opt_func=SGD,\n",
    "                loss_func=mnist_loss, metrics=batch_accuracy)\n",
    "\n",
    "learn.fit(40, 0.1)"
   ]
  },
  {
   "cell_type": "code",
   "execution_count": null,
   "metadata": {},
   "outputs": [],
   "source": []
  }
 ],
 "metadata": {
  "kernelspec": {
   "display_name": "base",
   "language": "python",
   "name": "python3"
  },
  "language_info": {
   "codemirror_mode": {
    "name": "ipython",
    "version": 3
   },
   "file_extension": ".py",
   "mimetype": "text/x-python",
   "name": "python",
   "nbconvert_exporter": "python",
   "pygments_lexer": "ipython3",
   "version": "3.10.12"
  },
  "orig_nbformat": 4
 },
 "nbformat": 4,
 "nbformat_minor": 2
}
